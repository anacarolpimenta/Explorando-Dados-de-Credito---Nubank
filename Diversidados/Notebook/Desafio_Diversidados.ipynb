{
  "nbformat": 4,
  "nbformat_minor": 0,
  "metadata": {
    "colab": {
      "name": "Desafio_Diversidados.ipynb",
      "provenance": []
    },
    "kernelspec": {
      "name": "python3",
      "display_name": "Python 3"
    }
  },
  "cells": [
    {
      "cell_type": "markdown",
      "metadata": {
        "id": "dKktfgQe2SOr"
      },
      "source": [
        "## Diversidados\n",
        "### Desafio Aula 5: Aplicação de modelos na prática"
      ]
    },
    {
      "cell_type": "markdown",
      "metadata": {
        "id": "RfHAtQuA2cm1"
      },
      "source": [
        "### Análise Exploratória dos Dados"
      ]
    },
    {
      "cell_type": "code",
      "metadata": {
        "id": "p7WB88utqM36"
      },
      "source": [
        "import pandas as pd\n",
        "import numpy as np\n",
        "import seaborn as sns\n",
        "import matplotlib.pyplot as plt"
      ],
      "execution_count": null,
      "outputs": []
    },
    {
      "cell_type": "code",
      "metadata": {
        "id": "p1sXr3C5165w"
      },
      "source": [
        "df = pd.read_csv('/content/drive/My Drive/Analise de Dados Python/policy_dataset.csv')"
      ],
      "execution_count": null,
      "outputs": []
    },
    {
      "cell_type": "code",
      "metadata": {
        "id": "_ckqnGEn2Akc",
        "colab": {
          "base_uri": "https://localhost:8080/",
          "height": 434
        },
        "outputId": "8766dda1-0f2d-417e-dff7-745a9d3b6f07"
      },
      "source": [
        "df.head(3)"
      ],
      "execution_count": null,
      "outputs": [
        {
          "output_type": "execute_result",
          "data": {
            "text/html": [
              "<div>\n",
              "<style scoped>\n",
              "    .dataframe tbody tr th:only-of-type {\n",
              "        vertical-align: middle;\n",
              "    }\n",
              "\n",
              "    .dataframe tbody tr th {\n",
              "        vertical-align: top;\n",
              "    }\n",
              "\n",
              "    .dataframe thead th {\n",
              "        text-align: right;\n",
              "    }\n",
              "</style>\n",
              "<table border=\"1\" class=\"dataframe\">\n",
              "  <thead>\n",
              "    <tr style=\"text-align: right;\">\n",
              "      <th></th>\n",
              "      <th>Unnamed: 0</th>\n",
              "      <th>ids</th>\n",
              "      <th>target_default</th>\n",
              "      <th>score_1</th>\n",
              "      <th>score_2</th>\n",
              "      <th>score_3</th>\n",
              "      <th>score_4</th>\n",
              "      <th>score_5</th>\n",
              "      <th>score_6</th>\n",
              "      <th>risk_rate</th>\n",
              "      <th>last_amount_borrowed</th>\n",
              "      <th>last_borrowed_in_months</th>\n",
              "      <th>credit_limit</th>\n",
              "      <th>reason</th>\n",
              "      <th>income</th>\n",
              "      <th>facebook_profile</th>\n",
              "      <th>state</th>\n",
              "      <th>zip</th>\n",
              "      <th>channel</th>\n",
              "      <th>job_name</th>\n",
              "      <th>real_state</th>\n",
              "      <th>ok_since</th>\n",
              "      <th>n_bankruptcies</th>\n",
              "      <th>n_defaulted_loans</th>\n",
              "      <th>n_accounts</th>\n",
              "      <th>n_issues</th>\n",
              "      <th>application_time_applied</th>\n",
              "      <th>application_time_in_funnel</th>\n",
              "      <th>email</th>\n",
              "      <th>external_data_provider_credit_checks_last_2_year</th>\n",
              "      <th>external_data_provider_credit_checks_last_month</th>\n",
              "      <th>external_data_provider_credit_checks_last_year</th>\n",
              "      <th>external_data_provider_email_seen_before</th>\n",
              "      <th>external_data_provider_first_name</th>\n",
              "      <th>external_data_provider_fraud_score</th>\n",
              "      <th>lat_lon</th>\n",
              "      <th>marketing_channel</th>\n",
              "      <th>profile_phone_number</th>\n",
              "      <th>reported_income</th>\n",
              "      <th>shipping_state</th>\n",
              "      <th>shipping_zip_code</th>\n",
              "      <th>profile_tags</th>\n",
              "      <th>user_agent</th>\n",
              "      <th>pii_cpf</th>\n",
              "      <th>spends</th>\n",
              "      <th>credit_line</th>\n",
              "      <th>revolving_balance</th>\n",
              "      <th>risk_prediction</th>\n",
              "      <th>spend_prediction</th>\n",
              "    </tr>\n",
              "  </thead>\n",
              "  <tbody>\n",
              "    <tr>\n",
              "      <th>0</th>\n",
              "      <td>0</td>\n",
              "      <td>343b7e7b-2cf8-e508-b8fd-0a0285af30aa</td>\n",
              "      <td>False</td>\n",
              "      <td>1Rk8w4Ucd5yR3KcqZzLdow==</td>\n",
              "      <td>IOVu8au3ISbo6+zmfnYwMg==</td>\n",
              "      <td>350.0</td>\n",
              "      <td>101.800832</td>\n",
              "      <td>0.259555</td>\n",
              "      <td>108.427273</td>\n",
              "      <td>0.40</td>\n",
              "      <td>25033.92</td>\n",
              "      <td>36.0</td>\n",
              "      <td>0.0</td>\n",
              "      <td>mLVIVxoGY7TUDJ1FyFoSIZi1SFcaBmO01AydRchaEiGYtU...</td>\n",
              "      <td>65014.12</td>\n",
              "      <td>True</td>\n",
              "      <td>sjJbkqJS7cXalHLBFA+EOQ==</td>\n",
              "      <td>Ernn+uVXCMq/6ARrBCcd+A==</td>\n",
              "      <td>NCqL3QBx0pscDnx3ixKwXg==</td>\n",
              "      <td>mLVIVxoGY7TUDJ1FyFoSIZi1SFcaBmO01AydRchaEiGYtU...</td>\n",
              "      <td>N5/CE7lSkAfB04hVFFwllw==</td>\n",
              "      <td>NaN</td>\n",
              "      <td>0.0</td>\n",
              "      <td>0.0</td>\n",
              "      <td>18.0</td>\n",
              "      <td>18.0</td>\n",
              "      <td>07:52:34</td>\n",
              "      <td>444</td>\n",
              "      <td>leidelaura@outlook.com</td>\n",
              "      <td>NaN</td>\n",
              "      <td>2</td>\n",
              "      <td>0.0</td>\n",
              "      <td>51.0</td>\n",
              "      <td>leidelaura</td>\n",
              "      <td>645</td>\n",
              "      <td>(-29.151545708122246, -51.1386461804385)</td>\n",
              "      <td>Invite-email</td>\n",
              "      <td>514-9840782</td>\n",
              "      <td>57849.0</td>\n",
              "      <td>BR-MT</td>\n",
              "      <td>17528</td>\n",
              "      <td>{'tags': ['n19', 'n8']}</td>\n",
              "      <td>Mozilla/5.0 (Linux; Android 6.0.1; SGP771 Buil...</td>\n",
              "      <td>203.885.319-32</td>\n",
              "      <td>1542.456667</td>\n",
              "      <td>1995</td>\n",
              "      <td>11.736667</td>\n",
              "      <td>0.136537</td>\n",
              "      <td>2775.111026</td>\n",
              "    </tr>\n",
              "    <tr>\n",
              "      <th>1</th>\n",
              "      <td>1</td>\n",
              "      <td>bc2c7502-bbad-0f8c-39c3-94e881967124</td>\n",
              "      <td>False</td>\n",
              "      <td>DGCQep2AE5QRkNCshIAlFQ==</td>\n",
              "      <td>SaamrHMo23l/3TwXOWgVzw==</td>\n",
              "      <td>370.0</td>\n",
              "      <td>97.062615</td>\n",
              "      <td>0.942655</td>\n",
              "      <td>92.002546</td>\n",
              "      <td>0.24</td>\n",
              "      <td>NaN</td>\n",
              "      <td>NaN</td>\n",
              "      <td>39726.0</td>\n",
              "      <td>mLVIVxoGY7TUDJ1FyFoSIZi1SFcaBmO01AydRchaEiGYtU...</td>\n",
              "      <td>100018.91</td>\n",
              "      <td>False</td>\n",
              "      <td>xsd3ZdsI3356I3xMxZeiqQ==</td>\n",
              "      <td>rlWIXTBO+VOa34+SpGyhlQ==</td>\n",
              "      <td>NCqL3QBx0pscDnx3ixKwXg==</td>\n",
              "      <td>mLVIVxoGY7TUDJ1FyFoSIZi1SFcaBmO01AydRchaEiGYtU...</td>\n",
              "      <td>N5/CE7lSkAfB04hVFFwllw==</td>\n",
              "      <td>50.0</td>\n",
              "      <td>0.0</td>\n",
              "      <td>0.0</td>\n",
              "      <td>14.0</td>\n",
              "      <td>14.0</td>\n",
              "      <td>02:34:29</td>\n",
              "      <td>346</td>\n",
              "      <td>diocezio@gmail.com</td>\n",
              "      <td>0.0</td>\n",
              "      <td>1</td>\n",
              "      <td>0.0</td>\n",
              "      <td>17.0</td>\n",
              "      <td>diocezio</td>\n",
              "      <td>243</td>\n",
              "      <td>(-19.687710705798963, -47.94151536525154)</td>\n",
              "      <td>Radio-commercial</td>\n",
              "      <td>251-3659293</td>\n",
              "      <td>4902.0</td>\n",
              "      <td>BR-RS</td>\n",
              "      <td>40933</td>\n",
              "      <td>{'tags': ['n6', 'n7', 'nim']}</td>\n",
              "      <td>Mozilla/5.0 (Linux; Android 5.0.2; SAMSUNG SM-...</td>\n",
              "      <td>906.026.321-96</td>\n",
              "      <td>1656.690000</td>\n",
              "      <td>2766</td>\n",
              "      <td>93.320000</td>\n",
              "      <td>0.127070</td>\n",
              "      <td>2695.438639</td>\n",
              "    </tr>\n",
              "    <tr>\n",
              "      <th>2</th>\n",
              "      <td>2</td>\n",
              "      <td>669630dd-2e6a-0396-84bf-455e5009c922</td>\n",
              "      <td>True</td>\n",
              "      <td>DGCQep2AE5QRkNCshIAlFQ==</td>\n",
              "      <td>Fv28Bz0YRTVAT5kl1bAV6g==</td>\n",
              "      <td>360.0</td>\n",
              "      <td>100.027073</td>\n",
              "      <td>0.351918</td>\n",
              "      <td>112.892453</td>\n",
              "      <td>0.29</td>\n",
              "      <td>7207.92</td>\n",
              "      <td>36.0</td>\n",
              "      <td>NaN</td>\n",
              "      <td>mLVIVxoGY7TUDJ1FyFoSIZi1SFcaBmO01AydRchaEiGYtU...</td>\n",
              "      <td>65023.65</td>\n",
              "      <td>NaN</td>\n",
              "      <td>Ygq6MsM98oC8yceExr69Ig==</td>\n",
              "      <td>PjTIDfJsK0DKL9fO7vuW2g==</td>\n",
              "      <td>NCqL3QBx0pscDnx3ixKwXg==</td>\n",
              "      <td>mLVIVxoGY7TUDJ1FyFoSIZi1SFcaBmO01AydRchaEiGYtU...</td>\n",
              "      <td>n+xK9CfX0bCn77lClTWviw==</td>\n",
              "      <td>NaN</td>\n",
              "      <td>0.0</td>\n",
              "      <td>0.0</td>\n",
              "      <td>10.0</td>\n",
              "      <td>NaN</td>\n",
              "      <td>00:60:02</td>\n",
              "      <td>6</td>\n",
              "      <td>ha+nds@gmail.com</td>\n",
              "      <td>NaN</td>\n",
              "      <td>2</td>\n",
              "      <td>NaN</td>\n",
              "      <td>9.0</td>\n",
              "      <td>veralucia</td>\n",
              "      <td>65</td>\n",
              "      <td>(-28.748023890412284, -51.867279334353995)</td>\n",
              "      <td>Waiting-list</td>\n",
              "      <td>230-6097993</td>\n",
              "      <td>163679.0</td>\n",
              "      <td>BR-RR</td>\n",
              "      <td>50985</td>\n",
              "      <td>{'tags': ['n0', 'n17', 'nim', 'da']}</td>\n",
              "      <td>Mozilla/5.0 (Linux; Android 6.0.1; SGP771 Buil...</td>\n",
              "      <td>046.615.891-22</td>\n",
              "      <td>49.173333</td>\n",
              "      <td>2537</td>\n",
              "      <td>18.456667</td>\n",
              "      <td>0.124733</td>\n",
              "      <td>2723.107941</td>\n",
              "    </tr>\n",
              "  </tbody>\n",
              "</table>\n",
              "</div>"
            ],
            "text/plain": [
              "   Unnamed: 0  ... spend_prediction\n",
              "0           0  ...      2775.111026\n",
              "1           1  ...      2695.438639\n",
              "2           2  ...      2723.107941\n",
              "\n",
              "[3 rows x 49 columns]"
            ]
          },
          "metadata": {
            "tags": []
          },
          "execution_count": 3
        }
      ]
    },
    {
      "cell_type": "code",
      "metadata": {
        "id": "S5Z3atIz9djd",
        "colab": {
          "base_uri": "https://localhost:8080/"
        },
        "outputId": "006be82e-fff5-49f9-e5b0-21084e6e8a33"
      },
      "source": [
        "# Listando os nomes das variáveis\n",
        "for c in df.columns:\n",
        "  print(c)"
      ],
      "execution_count": null,
      "outputs": [
        {
          "output_type": "stream",
          "text": [
            "Unnamed: 0\n",
            "ids\n",
            "target_default\n",
            "score_1\n",
            "score_2\n",
            "score_3\n",
            "score_4\n",
            "score_5\n",
            "score_6\n",
            "risk_rate\n",
            "last_amount_borrowed\n",
            "last_borrowed_in_months\n",
            "credit_limit\n",
            "reason\n",
            "income\n",
            "facebook_profile\n",
            "state\n",
            "zip\n",
            "channel\n",
            "job_name\n",
            "real_state\n",
            "ok_since\n",
            "n_bankruptcies\n",
            "n_defaulted_loans\n",
            "n_accounts\n",
            "n_issues\n",
            "application_time_applied\n",
            "application_time_in_funnel\n",
            "email\n",
            "external_data_provider_credit_checks_last_2_year\n",
            "external_data_provider_credit_checks_last_month\n",
            "external_data_provider_credit_checks_last_year\n",
            "external_data_provider_email_seen_before\n",
            "external_data_provider_first_name\n",
            "external_data_provider_fraud_score\n",
            "lat_lon\n",
            "marketing_channel\n",
            "profile_phone_number\n",
            "reported_income\n",
            "shipping_state\n",
            "shipping_zip_code\n",
            "profile_tags\n",
            "user_agent\n",
            "pii_cpf\n",
            "spends\n",
            "credit_line\n",
            "revolving_balance\n",
            "risk_prediction\n",
            "spend_prediction\n"
          ],
          "name": "stdout"
        }
      ]
    },
    {
      "cell_type": "code",
      "metadata": {
        "id": "ks3zN3sm96ik",
        "colab": {
          "base_uri": "https://localhost:8080/",
          "height": 317
        },
        "outputId": "a3dc9e5a-cd3b-4451-cc83-0261fb5f3eda"
      },
      "source": [
        "# Obtendo algumas estatísticas das variáveis\n",
        "df.describe()"
      ],
      "execution_count": null,
      "outputs": [
        {
          "output_type": "execute_result",
          "data": {
            "text/html": [
              "<div>\n",
              "<style scoped>\n",
              "    .dataframe tbody tr th:only-of-type {\n",
              "        vertical-align: middle;\n",
              "    }\n",
              "\n",
              "    .dataframe tbody tr th {\n",
              "        vertical-align: top;\n",
              "    }\n",
              "\n",
              "    .dataframe thead th {\n",
              "        text-align: right;\n",
              "    }\n",
              "</style>\n",
              "<table border=\"1\" class=\"dataframe\">\n",
              "  <thead>\n",
              "    <tr style=\"text-align: right;\">\n",
              "      <th></th>\n",
              "      <th>Unnamed: 0</th>\n",
              "      <th>score_3</th>\n",
              "      <th>score_4</th>\n",
              "      <th>score_5</th>\n",
              "      <th>score_6</th>\n",
              "      <th>risk_rate</th>\n",
              "      <th>last_amount_borrowed</th>\n",
              "      <th>last_borrowed_in_months</th>\n",
              "      <th>credit_limit</th>\n",
              "      <th>income</th>\n",
              "      <th>ok_since</th>\n",
              "      <th>n_bankruptcies</th>\n",
              "      <th>n_defaulted_loans</th>\n",
              "      <th>n_accounts</th>\n",
              "      <th>n_issues</th>\n",
              "      <th>application_time_in_funnel</th>\n",
              "      <th>external_data_provider_credit_checks_last_2_year</th>\n",
              "      <th>external_data_provider_credit_checks_last_month</th>\n",
              "      <th>external_data_provider_credit_checks_last_year</th>\n",
              "      <th>external_data_provider_email_seen_before</th>\n",
              "      <th>external_data_provider_fraud_score</th>\n",
              "      <th>reported_income</th>\n",
              "      <th>shipping_zip_code</th>\n",
              "      <th>spends</th>\n",
              "      <th>credit_line</th>\n",
              "      <th>revolving_balance</th>\n",
              "      <th>risk_prediction</th>\n",
              "      <th>spend_prediction</th>\n",
              "    </tr>\n",
              "  </thead>\n",
              "  <tbody>\n",
              "    <tr>\n",
              "      <th>count</th>\n",
              "      <td>41741.00000</td>\n",
              "      <td>41741.000000</td>\n",
              "      <td>41741.000000</td>\n",
              "      <td>41741.000000</td>\n",
              "      <td>41741.000000</td>\n",
              "      <td>41741.000000</td>\n",
              "      <td>14133.000000</td>\n",
              "      <td>14133.000000</td>\n",
              "      <td>28632.000000</td>\n",
              "      <td>4.174100e+04</td>\n",
              "      <td>17276.000000</td>\n",
              "      <td>41606.000000</td>\n",
              "      <td>41729.000000</td>\n",
              "      <td>41741.000000</td>\n",
              "      <td>30818.000000</td>\n",
              "      <td>41741.000000</td>\n",
              "      <td>20711.0</td>\n",
              "      <td>41741.000000</td>\n",
              "      <td>27720.000000</td>\n",
              "      <td>39656.000000</td>\n",
              "      <td>41741.000000</td>\n",
              "      <td>41741.0</td>\n",
              "      <td>41741.000000</td>\n",
              "      <td>41741.000000</td>\n",
              "      <td>41741.000000</td>\n",
              "      <td>41741.000000</td>\n",
              "      <td>41741.000000</td>\n",
              "      <td>41741.000000</td>\n",
              "    </tr>\n",
              "    <tr>\n",
              "      <th>mean</th>\n",
              "      <td>20870.00000</td>\n",
              "      <td>346.459836</td>\n",
              "      <td>100.006820</td>\n",
              "      <td>0.499416</td>\n",
              "      <td>99.919399</td>\n",
              "      <td>0.294451</td>\n",
              "      <td>13328.104095</td>\n",
              "      <td>40.588410</td>\n",
              "      <td>33877.220453</td>\n",
              "      <td>7.108012e+04</td>\n",
              "      <td>35.192174</td>\n",
              "      <td>0.076696</td>\n",
              "      <td>0.004625</td>\n",
              "      <td>10.639108</td>\n",
              "      <td>11.023882</td>\n",
              "      <td>247.748545</td>\n",
              "      <td>0.0</td>\n",
              "      <td>1.504396</td>\n",
              "      <td>0.504185</td>\n",
              "      <td>12.731188</td>\n",
              "      <td>500.491771</td>\n",
              "      <td>inf</td>\n",
              "      <td>33910.856688</td>\n",
              "      <td>2830.088883</td>\n",
              "      <td>6442.672552</td>\n",
              "      <td>464.804461</td>\n",
              "      <td>0.159682</td>\n",
              "      <td>2830.088885</td>\n",
              "    </tr>\n",
              "    <tr>\n",
              "      <th>std</th>\n",
              "      <td>12049.73313</td>\n",
              "      <td>110.102271</td>\n",
              "      <td>3.183821</td>\n",
              "      <td>0.288085</td>\n",
              "      <td>10.022703</td>\n",
              "      <td>0.101561</td>\n",
              "      <td>7918.698433</td>\n",
              "      <td>9.437936</td>\n",
              "      <td>36141.985884</td>\n",
              "      <td>5.225978e+04</td>\n",
              "      <td>21.629577</td>\n",
              "      <td>0.274820</td>\n",
              "      <td>0.080157</td>\n",
              "      <td>4.588175</td>\n",
              "      <td>4.596036</td>\n",
              "      <td>146.326172</td>\n",
              "      <td>0.0</td>\n",
              "      <td>1.114207</td>\n",
              "      <td>0.499992</td>\n",
              "      <td>125.711218</td>\n",
              "      <td>287.993121</td>\n",
              "      <td>NaN</td>\n",
              "      <td>12696.432491</td>\n",
              "      <td>2456.812977</td>\n",
              "      <td>4546.717582</td>\n",
              "      <td>839.417243</td>\n",
              "      <td>0.069825</td>\n",
              "      <td>240.307693</td>\n",
              "    </tr>\n",
              "    <tr>\n",
              "      <th>min</th>\n",
              "      <td>0.00000</td>\n",
              "      <td>0.000000</td>\n",
              "      <td>86.191572</td>\n",
              "      <td>0.000035</td>\n",
              "      <td>60.663039</td>\n",
              "      <td>0.000000</td>\n",
              "      <td>1005.180000</td>\n",
              "      <td>36.000000</td>\n",
              "      <td>0.000000</td>\n",
              "      <td>4.821180e+03</td>\n",
              "      <td>0.000000</td>\n",
              "      <td>0.000000</td>\n",
              "      <td>0.000000</td>\n",
              "      <td>0.000000</td>\n",
              "      <td>0.000000</td>\n",
              "      <td>0.000000</td>\n",
              "      <td>0.0</td>\n",
              "      <td>0.000000</td>\n",
              "      <td>0.000000</td>\n",
              "      <td>-999.000000</td>\n",
              "      <td>0.000000</td>\n",
              "      <td>403.0</td>\n",
              "      <td>12001.000000</td>\n",
              "      <td>0.000000</td>\n",
              "      <td>506.000000</td>\n",
              "      <td>0.000000</td>\n",
              "      <td>0.013181</td>\n",
              "      <td>1472.665520</td>\n",
              "    </tr>\n",
              "    <tr>\n",
              "      <th>25%</th>\n",
              "      <td>10435.00000</td>\n",
              "      <td>270.000000</td>\n",
              "      <td>97.862546</td>\n",
              "      <td>0.251595</td>\n",
              "      <td>93.182517</td>\n",
              "      <td>0.220000</td>\n",
              "      <td>7210.280000</td>\n",
              "      <td>36.000000</td>\n",
              "      <td>9975.000000</td>\n",
              "      <td>4.401958e+04</td>\n",
              "      <td>17.000000</td>\n",
              "      <td>0.000000</td>\n",
              "      <td>0.000000</td>\n",
              "      <td>7.000000</td>\n",
              "      <td>8.000000</td>\n",
              "      <td>120.000000</td>\n",
              "      <td>0.0</td>\n",
              "      <td>1.000000</td>\n",
              "      <td>0.000000</td>\n",
              "      <td>11.000000</td>\n",
              "      <td>252.000000</td>\n",
              "      <td>50910.0</td>\n",
              "      <td>22914.000000</td>\n",
              "      <td>1021.536667</td>\n",
              "      <td>2954.000000</td>\n",
              "      <td>8.133333</td>\n",
              "      <td>0.113500</td>\n",
              "      <td>2729.696785</td>\n",
              "    </tr>\n",
              "    <tr>\n",
              "      <th>50%</th>\n",
              "      <td>20870.00000</td>\n",
              "      <td>340.000000</td>\n",
              "      <td>100.017950</td>\n",
              "      <td>0.500174</td>\n",
              "      <td>99.977774</td>\n",
              "      <td>0.290000</td>\n",
              "      <td>12011.050000</td>\n",
              "      <td>36.000000</td>\n",
              "      <td>25213.000000</td>\n",
              "      <td>6.004409e+04</td>\n",
              "      <td>32.000000</td>\n",
              "      <td>0.000000</td>\n",
              "      <td>0.000000</td>\n",
              "      <td>10.000000</td>\n",
              "      <td>10.000000</td>\n",
              "      <td>248.000000</td>\n",
              "      <td>0.0</td>\n",
              "      <td>2.000000</td>\n",
              "      <td>1.000000</td>\n",
              "      <td>27.000000</td>\n",
              "      <td>502.000000</td>\n",
              "      <td>101623.0</td>\n",
              "      <td>33877.000000</td>\n",
              "      <td>2082.143333</td>\n",
              "      <td>5311.000000</td>\n",
              "      <td>102.303333</td>\n",
              "      <td>0.150634</td>\n",
              "      <td>2810.101788</td>\n",
              "    </tr>\n",
              "    <tr>\n",
              "      <th>75%</th>\n",
              "      <td>31305.00000</td>\n",
              "      <td>420.000000</td>\n",
              "      <td>102.143100</td>\n",
              "      <td>0.747630</td>\n",
              "      <td>106.630991</td>\n",
              "      <td>0.360000</td>\n",
              "      <td>18030.160000</td>\n",
              "      <td>36.000000</td>\n",
              "      <td>46492.500000</td>\n",
              "      <td>8.503289e+04</td>\n",
              "      <td>50.000000</td>\n",
              "      <td>0.000000</td>\n",
              "      <td>0.000000</td>\n",
              "      <td>13.000000</td>\n",
              "      <td>14.000000</td>\n",
              "      <td>375.000000</td>\n",
              "      <td>0.0</td>\n",
              "      <td>2.000000</td>\n",
              "      <td>1.000000</td>\n",
              "      <td>43.000000</td>\n",
              "      <td>747.000000</td>\n",
              "      <td>151248.0</td>\n",
              "      <td>44923.000000</td>\n",
              "      <td>3923.400000</td>\n",
              "      <td>8743.000000</td>\n",
              "      <td>542.473333</td>\n",
              "      <td>0.195369</td>\n",
              "      <td>2888.810425</td>\n",
              "    </tr>\n",
              "    <tr>\n",
              "      <th>max</th>\n",
              "      <td>41740.00000</td>\n",
              "      <td>990.000000</td>\n",
              "      <td>113.978234</td>\n",
              "      <td>0.999973</td>\n",
              "      <td>142.192400</td>\n",
              "      <td>0.900000</td>\n",
              "      <td>35059.600000</td>\n",
              "      <td>60.000000</td>\n",
              "      <td>448269.000000</td>\n",
              "      <td>5.000028e+06</td>\n",
              "      <td>141.000000</td>\n",
              "      <td>5.000000</td>\n",
              "      <td>5.000000</td>\n",
              "      <td>49.000000</td>\n",
              "      <td>49.000000</td>\n",
              "      <td>500.000000</td>\n",
              "      <td>0.0</td>\n",
              "      <td>3.000000</td>\n",
              "      <td>1.000000</td>\n",
              "      <td>59.000000</td>\n",
              "      <td>1000.000000</td>\n",
              "      <td>inf</td>\n",
              "      <td>56000.000000</td>\n",
              "      <td>18455.696667</td>\n",
              "      <td>20484.000000</td>\n",
              "      <td>12500.113333</td>\n",
              "      <td>0.725531</td>\n",
              "      <td>5853.347843</td>\n",
              "    </tr>\n",
              "  </tbody>\n",
              "</table>\n",
              "</div>"
            ],
            "text/plain": [
              "        Unnamed: 0       score_3  ...  risk_prediction  spend_prediction\n",
              "count  41741.00000  41741.000000  ...     41741.000000      41741.000000\n",
              "mean   20870.00000    346.459836  ...         0.159682       2830.088885\n",
              "std    12049.73313    110.102271  ...         0.069825        240.307693\n",
              "min        0.00000      0.000000  ...         0.013181       1472.665520\n",
              "25%    10435.00000    270.000000  ...         0.113500       2729.696785\n",
              "50%    20870.00000    340.000000  ...         0.150634       2810.101788\n",
              "75%    31305.00000    420.000000  ...         0.195369       2888.810425\n",
              "max    41740.00000    990.000000  ...         0.725531       5853.347843\n",
              "\n",
              "[8 rows x 28 columns]"
            ]
          },
          "metadata": {
            "tags": []
          },
          "execution_count": 5
        }
      ]
    },
    {
      "cell_type": "markdown",
      "metadata": {
        "id": "vYKn8qma-o0A"
      },
      "source": [
        "1) A inadimplência é o aspecto mais sensível quando se fala em crédito (target_default). Faça algumas visualizações que explorem a inadimplência na base fornecida."
      ]
    },
    {
      "cell_type": "code",
      "metadata": {
        "id": "HehXMN0I-wlb",
        "colab": {
          "base_uri": "https://localhost:8080/"
        },
        "outputId": "c3e13494-e769-4bc4-e740-52ca052b29f0"
      },
      "source": [
        "# Vamos analisar se o número de inadimplentes é maior ou menor \n",
        "quant = df.target_default.value_counts()\n",
        "percent = df.target_default.value_counts(normalize=True)\n",
        "\n",
        "print(quant)\n",
        "print(percent)"
      ],
      "execution_count": null,
      "outputs": [
        {
          "output_type": "stream",
          "text": [
            "False    35080\n",
            "True      6661\n",
            "Name: target_default, dtype: int64\n",
            "False    0.840421\n",
            "True     0.159579\n",
            "Name: target_default, dtype: float64\n"
          ],
          "name": "stdout"
        }
      ]
    },
    {
      "cell_type": "markdown",
      "metadata": {
        "id": "6PP6JzcXFOS6"
      },
      "source": [
        "Podemos afirmar com as informações acima que temos mais não inadimplentes do que inadimplentes"
      ]
    },
    {
      "cell_type": "markdown",
      "metadata": {
        "id": "Ydu5p7vkF5mY"
      },
      "source": [
        "Vamos agora plotar um gráfico para analisarmos se existe alguma relação com o limite de crédito e o fato do cliente ser ou não inadimplente"
      ]
    },
    {
      "cell_type": "code",
      "metadata": {
        "id": "IG5-3coGC_i1",
        "colab": {
          "base_uri": "https://localhost:8080/",
          "height": 401
        },
        "outputId": "bb97b7f0-c27c-4266-d759-b88df9aa9f7e"
      },
      "source": [
        "sns.catplot(x=\"target_default\", y=\"credit_line\", kind=\"bar\", data=df, palette='pink')"
      ],
      "execution_count": null,
      "outputs": [
        {
          "output_type": "execute_result",
          "data": {
            "text/plain": [
              "<seaborn.axisgrid.FacetGrid at 0x7fca1abce6a0>"
            ]
          },
          "metadata": {
            "tags": []
          },
          "execution_count": 7
        },
        {
          "output_type": "display_data",
          "data": {
            "image/png": "[encoded data removed]",
            "text/plain": [
              "<Figure size 360x360 with 1 Axes>"
            ]
          },
          "metadata": {
            "tags": [],
            "needs_background": "light"
          }
        }
      ]
    },
    {
      "cell_type": "markdown",
      "metadata": {
        "id": "_2n4bQM-fTuq"
      },
      "source": [
        "Apesar de tendermos a achar que o limite de crédito influencia em ser inadimplente ou não, o gráfico acima nos mostra que essa relação não é muito relevante, pois temos uma quantidade parecida entre inadimplentes e não inadimplentes."
      ]
    },
    {
      "cell_type": "markdown",
      "metadata": {
        "id": "9zEQzhqaLtvF"
      },
      "source": [
        "Vmos analisar agora se existe alguma relação com os gastos mensais e inadimplência"
      ]
    },
    {
      "cell_type": "code",
      "metadata": {
        "id": "uAPkV6nKFHGu",
        "colab": {
          "base_uri": "https://localhost:8080/",
          "height": 401
        },
        "outputId": "c29e5009-159c-4561-88af-70628d789452"
      },
      "source": [
        "sns.catplot(x=\"target_default\", y=\"spends\", kind=\"bar\", data=df, palette='pink')"
      ],
      "execution_count": null,
      "outputs": [
        {
          "output_type": "execute_result",
          "data": {
            "text/plain": [
              "<seaborn.axisgrid.FacetGrid at 0x7fca1abf8c88>"
            ]
          },
          "metadata": {
            "tags": []
          },
          "execution_count": 8
        },
        {
          "output_type": "display_data",
          "data": {
            "image/png": "[encoded data removed]",
            "text/plain": [
              "<Figure size 360x360 with 1 Axes>"
            ]
          },
          "metadata": {
            "tags": [],
            "needs_background": "light"
          }
        }
      ]
    },
    {
      "cell_type": "markdown",
      "metadata": {
        "id": "rkpT-jZlL8P5"
      },
      "source": [
        "Podemos perceber observando o gráfico acima, que não existe uma relação relevante entre os gastos e a inadimplência. Mas será que podemos obter uma relação entre os gastos e a renda salarial? Para isso vamos criar uma nova variável, colocando a variável \"income\" (renda estimada)  em faixas salariais."
      ]
    },
    {
      "cell_type": "code",
      "metadata": {
        "id": "GRYw9vOBG-fu",
        "colab": {
          "base_uri": "https://localhost:8080/"
        },
        "outputId": "a911b60f-9240-43bb-cd67-285c2a3faae3"
      },
      "source": [
        "df.income.min()"
      ],
      "execution_count": null,
      "outputs": [
        {
          "output_type": "execute_result",
          "data": {
            "text/plain": [
              "4821.18"
            ]
          },
          "metadata": {
            "tags": []
          },
          "execution_count": 9
        }
      ]
    },
    {
      "cell_type": "code",
      "metadata": {
        "id": "l9Ewp1nCHQmN",
        "colab": {
          "base_uri": "https://localhost:8080/"
        },
        "outputId": "cef49e83-3b39-49b6-f414-d77ab1dfea2c"
      },
      "source": [
        "df.income.max()"
      ],
      "execution_count": null,
      "outputs": [
        {
          "output_type": "execute_result",
          "data": {
            "text/plain": [
              "5000027.83"
            ]
          },
          "metadata": {
            "tags": []
          },
          "execution_count": 10
        }
      ]
    },
    {
      "cell_type": "markdown",
      "metadata": {
        "id": "3a0VcUjtMnuR"
      },
      "source": [
        "Primeiro vamos criar uma função para distribuir a renda em faixas:"
      ]
    },
    {
      "cell_type": "code",
      "metadata": {
        "id": "FoFpQJ2lHb2R"
      },
      "source": [
        "# criando a função \"faixa_Sal\"\n",
        "def faixa_sal(x):\n",
        "  if 4000 < x < 6000:\n",
        "    return 1\n",
        "  if 6000 < x < 8000:\n",
        "    return 2\n",
        "  if 8000 < x < 10000:\n",
        "    return 3\n",
        "  if 10000 < x < 12000:\n",
        "    return 4\n",
        "  if 12000 < x < 14000:\n",
        "    return 5\n",
        "  if 14000 < x < 16000:\n",
        "    return 6\n",
        "  if 16000 < x < 18000:\n",
        "    return 7\n",
        "  if 18000 < x < 20000:\n",
        "    return 8\n",
        "  elif x > 20000:\n",
        "    return 9"
      ],
      "execution_count": null,
      "outputs": []
    },
    {
      "cell_type": "code",
      "metadata": {
        "id": "RWSjsu-eKYFh"
      },
      "source": [
        "# Aplicando a função para cada observação nda coluna income e atribuindo a uma nova variável \"renda_faixa\"\n",
        "df['renda_faixa'] = df['income'].apply(faixa_sal)"
      ],
      "execution_count": null,
      "outputs": []
    },
    {
      "cell_type": "markdown",
      "metadata": {
        "id": "RPi-17fHM4uj"
      },
      "source": [
        "Agora vamos visualizar essa relação:"
      ]
    },
    {
      "cell_type": "code",
      "metadata": {
        "id": "Ox27blvmKePV",
        "colab": {
          "base_uri": "https://localhost:8080/",
          "height": 401
        },
        "outputId": "a1f9def1-fdb2-4511-b95d-36d4bff3cdfc"
      },
      "source": [
        "sns.catplot(x=\"renda_faixa\", y=\"spends\", kind=\"bar\", data=df, palette='rocket', ci=None)"
      ],
      "execution_count": null,
      "outputs": [
        {
          "output_type": "execute_result",
          "data": {
            "text/plain": [
              "<seaborn.axisgrid.FacetGrid at 0x7fca165af940>"
            ]
          },
          "metadata": {
            "tags": []
          },
          "execution_count": 36
        },
        {
          "output_type": "display_data",
          "data": {
            "image/png": "[encoded data removed]",
            "text/plain": [
              "<Figure size 360x360 with 1 Axes>"
            ]
          },
          "metadata": {
            "tags": [],
            "needs_background": "light"
          }
        }
      ]
    },
    {
      "cell_type": "code",
      "metadata": {
        "id": "K0nsNB-rTka0",
        "colab": {
          "base_uri": "https://localhost:8080/",
          "height": 297
        },
        "outputId": "095e6080-749f-47c4-9833-338890851be1"
      },
      "source": [
        "sns.boxplot(x=\"renda_faixa\", y=\"spends\", data=df, palette='rocket')"
      ],
      "execution_count": null,
      "outputs": [
        {
          "output_type": "execute_result",
          "data": {
            "text/plain": [
              "<matplotlib.axes._subplots.AxesSubplot at 0x7fca168e9eb8>"
            ]
          },
          "metadata": {
            "tags": []
          },
          "execution_count": 32
        },
        {
          "output_type": "display_data",
          "data": {
            "image/png": "[encoded data removed]",
            "text/plain": [
              "<Figure size 432x288 with 1 Axes>"
            ]
          },
          "metadata": {
            "tags": [],
            "needs_background": "light"
          }
        }
      ]
    },
    {
      "cell_type": "markdown",
      "metadata": {
        "id": "NpT1pEArM-VN"
      },
      "source": [
        "Podemos observar que as pessoas com menor faixa salarial, tendem a gastar mais com cartão de crédito. Enquanto que o grupo com rendas altas se concentram em faixas de gastos menores mas, por outro lado é onde temos casos de gastos acima de 7/ 8 mil pra mais. Provavelmente por terem condição financeira e limites de créditos maiores. Lembrando que nossas faixas são de 2 em 2 mil começando em 4 mil e a faixa mais alta (9) são aqueles com renda acima de 20 mil."
      ]
    },
    {
      "cell_type": "markdown",
      "metadata": {
        "id": "YiliX8RyOWbU"
      },
      "source": [
        "Outra análise que podemos fazer, é avaliar se aqueles considerados inadimpentes possuem uma pontuação de risco maior."
      ]
    },
    {
      "cell_type": "code",
      "metadata": {
        "id": "kOEYgVJLOJwF",
        "colab": {
          "base_uri": "https://localhost:8080/",
          "height": 401
        },
        "outputId": "04cfc2e3-a9c7-47c7-9d39-217d063ffdab"
      },
      "source": [
        "sns.catplot(x=\"target_default\", y=\"risk_rate\", kind=\"bar\", data=df, palette='pink')"
      ],
      "execution_count": null,
      "outputs": [
        {
          "output_type": "execute_result",
          "data": {
            "text/plain": [
              "<seaborn.axisgrid.FacetGrid at 0x7fca27a8b550>"
            ]
          },
          "metadata": {
            "tags": []
          },
          "execution_count": 14
        },
        {
          "output_type": "display_data",
          "data": {
            "image/png": "[encoded data removed]",
            "text/plain": [
              "<Figure size 360x360 with 1 Axes>"
            ]
          },
          "metadata": {
            "tags": [],
            "needs_background": "light"
          }
        }
      ]
    },
    {
      "cell_type": "markdown",
      "metadata": {
        "id": "GLi-SSyfOt9J"
      },
      "source": [
        "Apesar de não ser discrepante a diferença, podemos ver que mais inadimplentes foram classificados em faixas maiores de risco do que os não inadimplentes."
      ]
    },
    {
      "cell_type": "markdown",
      "metadata": {
        "id": "aZKxlF5bnMnG"
      },
      "source": [
        "Por fim, vamos procurar se existe uma relação entre inadimplência e empréstimo. Para isso, vamos considerar que  os dados NaN da variável \"last_amount_borrowed\" são os clientes que nunca fizeram empréstimo e criar uma nova variável categórica \"empréstimo\":"
      ]
    },
    {
      "cell_type": "code",
      "metadata": {
        "id": "zVgGJeO5PJAC"
      },
      "source": [
        "# preenchendo os dados ausentes da variável \"last_amount_borrowed\" com 0\n",
        "df.last_amount_borrowed.fillna(0, inplace=True)"
      ],
      "execution_count": null,
      "outputs": []
    },
    {
      "cell_type": "code",
      "metadata": {
        "id": "8MGWNzlhQNcm"
      },
      "source": [
        "# criaremos uma função para criar a categoria \"empréstimo\", sendo 0 = \"Não\" e 1 = \"Sim\"\n",
        "def emp(x):\n",
        "  if x > 0:\n",
        "    return 1\n",
        "  else:\n",
        "    return 0"
      ],
      "execution_count": null,
      "outputs": []
    },
    {
      "cell_type": "code",
      "metadata": {
        "id": "G0kc_eFHQXms"
      },
      "source": [
        "# Aplicando a função para criar a nova variável\n",
        "df['emprestimo'] = df['last_amount_borrowed'].apply(emp)"
      ],
      "execution_count": null,
      "outputs": []
    },
    {
      "cell_type": "code",
      "metadata": {
        "id": "X16cWxaxQg1h",
        "colab": {
          "base_uri": "https://localhost:8080/",
          "height": 293
        },
        "outputId": "36296529-7240-4901-d182-a944eeec3886"
      },
      "source": [
        "# plotando um gráfico para avaliarmos alguma relação\n",
        "pd.crosstab(df['emprestimo'], df['target_default']).plot(kind='bar', stacked=True)"
      ],
      "execution_count": null,
      "outputs": [
        {
          "output_type": "execute_result",
          "data": {
            "text/plain": [
              "<matplotlib.axes._subplots.AxesSubplot at 0x7fca15545278>"
            ]
          },
          "metadata": {
            "tags": []
          },
          "execution_count": 18
        },
        {
          "output_type": "display_data",
          "data": {
            "image/png": "[encoded data removed]",
            "text/plain": [
              "<Figure size 432x288 with 1 Axes>"
            ]
          },
          "metadata": {
            "tags": [],
            "needs_background": "light"
          }
        }
      ]
    },
    {
      "cell_type": "markdown",
      "metadata": {
        "id": "vi5jPVUfonY7"
      },
      "source": [
        "Podemos observar no gráfico, algo esperado: O maior número de inadimplentes está no grupo que não realizou empréstimo. O que faz bastante sentido, uma vez ue o banco, para liberar ou não um empréstimo, avalia se o cliente possui histórico de não inadimplência."
      ]
    },
    {
      "cell_type": "markdown",
      "metadata": {
        "id": "IkinC7Bg7hCs"
      },
      "source": [
        "2) Analisando a distribuição do volume de compras em 3 meses dos clientes (variável \"spends\"), você diria que ela segue uma distribuição normal? Há algo de estranho nela? Se sim, qual seria a justificativa ou hipótese para tal?"
      ]
    },
    {
      "cell_type": "code",
      "metadata": {
        "id": "-IK7OTQg50mI",
        "colab": {
          "base_uri": "https://localhost:8080/",
          "height": 296
        },
        "outputId": "551a1e6f-1969-4173-d58e-3c5997a23703"
      },
      "source": [
        "sns.histplot(data=df, x='spends', bins=30, kde=True, color='purple')"
      ],
      "execution_count": null,
      "outputs": [
        {
          "output_type": "execute_result",
          "data": {
            "text/plain": [
              "<matplotlib.axes._subplots.AxesSubplot at 0x7fca16b02550>"
            ]
          },
          "metadata": {
            "tags": []
          },
          "execution_count": 19
        },
        {
          "output_type": "display_data",
          "data": {
            "image/png": "[encoded data removed]",
            "text/plain": [
              "<Figure size 432x288 with 1 Axes>"
            ]
          },
          "metadata": {
            "tags": [],
            "needs_background": "light"
          }
        }
      ]
    },
    {
      "cell_type": "markdown",
      "metadata": {
        "id": "V4gP4_527Orb"
      },
      "source": [
        "**Observações**: Não é uma distribuição normal e podemos ver que há um pico, em torno dos 6.500.\n",
        "\n",
        "Podemos pensar em várias possibilidades para esse pico. Podemos estar olhando para um quadro de crise ou pandemia, onde as pessoas podem aumentar os seus gastos, seja com empréstimos ou compras exageradas, influenciadas pelo medo e pressão. Mas não temos variáveis no banco que nos detalhe essa informação. "
      ]
    },
    {
      "cell_type": "markdown",
      "metadata": {
        "id": "TBL13nAKuoYp"
      },
      "source": [
        "## Problema de Negócio\n",
        "### Construir uma política para decidir:\n",
        "   - Se o cliente deve ser aprovado ou não.\n",
        "   - Qual o limite inicial que esse cliente deve receber."
      ]
    },
    {
      "cell_type": "markdown",
      "metadata": {
        "id": "Erz5mejnKRgL"
      },
      "source": [
        "### Vamos iniciar calculando o valor de um cliente, qual a receita real de um cliente individual?"
      ]
    },
    {
      "cell_type": "markdown",
      "metadata": {
        "id": "P_815ESZKitv"
      },
      "source": [
        "## Receita\n",
        "### Taxa de juros do rotativo 10%"
      ]
    },
    {
      "cell_type": "code",
      "metadata": {
        "id": "UxjwVbhIuvuQ"
      },
      "source": [
        "df['taxa_juros_rotativo'] = np.where(df.target_default == 0, 0.1 * df.revolving_balance,0)"
      ],
      "execution_count": null,
      "outputs": []
    },
    {
      "cell_type": "code",
      "metadata": {
        "id": "uNIYQKuRLkpi",
        "colab": {
          "base_uri": "https://localhost:8080/"
        },
        "outputId": "bedd819d-5d7d-4abd-ad8d-ba54efcc6e3b"
      },
      "source": [
        "df.taxa_juros_rotativo.describe()"
      ],
      "execution_count": null,
      "outputs": [
        {
          "output_type": "execute_result",
          "data": {
            "text/plain": [
              "count    41741.000000\n",
              "mean        39.081120\n",
              "std         79.070049\n",
              "min          0.000000\n",
              "25%          0.030667\n",
              "50%          4.365000\n",
              "75%         42.681333\n",
              "max       1250.011333\n",
              "Name: taxa_juros_rotativo, dtype: float64"
            ]
          },
          "metadata": {
            "tags": []
          },
          "execution_count": 22
        }
      ]
    },
    {
      "cell_type": "markdown",
      "metadata": {
        "id": "v5-Fn7TFL72-"
      },
      "source": [
        "### Intercâmbio: Representa uma porcentagem de todos os gastos do cliente no cartão de crédito. Para o problema iremos assumir que a taxa de intercâmbio é fixa em 2% e portanto de todos os gastos do cliente, 2% se torna receita para o Nubank."
      ]
    },
    {
      "cell_type": "code",
      "metadata": {
        "id": "gHbnRNvzL49e"
      },
      "source": [
        "df['intercambio'] = np.where(df.target_default == 0, 0.02 * df.spends, 0)"
      ],
      "execution_count": null,
      "outputs": []
    },
    {
      "cell_type": "code",
      "metadata": {
        "id": "dVnirbPZi3aX",
        "colab": {
          "base_uri": "https://localhost:8080/"
        },
        "outputId": "48c71102-94f7-4275-fbf5-14ce525968f8"
      },
      "source": [
        "df.intercambio.describe()"
      ],
      "execution_count": null,
      "outputs": [
        {
          "output_type": "execute_result",
          "data": {
            "text/plain": [
              "count    41741.000000\n",
              "mean        47.692764\n",
              "std         49.688579\n",
              "min          0.000000\n",
              "25%         10.319600\n",
              "50%         32.630533\n",
              "75%         69.690067\n",
              "max        369.113933\n",
              "Name: intercambio, dtype: float64"
            ]
          },
          "metadata": {
            "tags": []
          },
          "execution_count": 24
        }
      ]
    },
    {
      "cell_type": "markdown",
      "metadata": {
        "id": "z3i0JFwUMplt"
      },
      "source": [
        "### Custos Operacionais"
      ]
    },
    {
      "cell_type": "markdown",
      "metadata": {
        "id": "lWgiK9ksMuMe"
      },
      "source": [
        "### Os custos por sua vez vem de três fontes principais: Custos operacionais, custos de emissão do cartão e perdas por inadiplêmcia.\n",
        "\n",
        " - Custos operacionais: Representam custos de atendimento e infrastrutura gastos com cada novo cliente, para o problema podemos assumir que cada cliente custa R$ 10,00 ao Nubank em custos operacionais.\n",
        "\n",
        "\n",
        " - Custos de cartão: Custo de emissão do cartão para o cliente, para o problema vamos assumir um custo de R$ 5,00.\n",
        "\n",
        " \n",
        " - Perdas por inadimplência: referem-se ao valor perdido caso o cliente não pague a sua fatura, para esse desafio vamos assumir que se o cliente se torna inadimplemente perdemos o valor total de sua fatura"
      ]
    },
    {
      "cell_type": "code",
      "metadata": {
        "id": "LKntOoUEMJJ7"
      },
      "source": [
        "df['custo_cartao'] = 5\n",
        "df['custo_operacional'] = 10\n",
        "df['perda_inadimplencia'] = np.where(df.target_default == 1, df['spends'], 0)"
      ],
      "execution_count": null,
      "outputs": []
    },
    {
      "cell_type": "code",
      "metadata": {
        "id": "CTz1nQSOjHfn",
        "colab": {
          "base_uri": "https://localhost:8080/"
        },
        "outputId": "73cc01c1-ff0b-4a33-eb0e-871fcfd699d3"
      },
      "source": [
        "df.perda_inadimplencia.describe()"
      ],
      "execution_count": null,
      "outputs": [
        {
          "output_type": "execute_result",
          "data": {
            "text/plain": [
              "count    41741.000000\n",
              "mean       445.450690\n",
              "std       1409.989742\n",
              "min          0.000000\n",
              "25%          0.000000\n",
              "50%          0.000000\n",
              "75%          0.000000\n",
              "max      16752.666667\n",
              "Name: perda_inadimplencia, dtype: float64"
            ]
          },
          "metadata": {
            "tags": []
          },
          "execution_count": 26
        }
      ]
    },
    {
      "cell_type": "markdown",
      "metadata": {
        "id": "NvJQ_RljR70a"
      },
      "source": [
        "### Valor Total de cada cliente"
      ]
    },
    {
      "cell_type": "code",
      "metadata": {
        "id": "7iSxco7KRxrM"
      },
      "source": [
        "df['total_custos'] = df['custo_operacional'] + df['custo_cartao'] + df['perda_inadimplencia']"
      ],
      "execution_count": null,
      "outputs": []
    },
    {
      "cell_type": "code",
      "metadata": {
        "id": "mAvEACqzSMD2"
      },
      "source": [
        "df['total_receitas'] = df['intercambio'] + df['taxa_juros_rotativo']"
      ],
      "execution_count": null,
      "outputs": []
    },
    {
      "cell_type": "code",
      "metadata": {
        "id": "vZ8jCLmQSaP4"
      },
      "source": [
        "df['lucro_cliente'] = df['total_receitas'] - df['total_custos']"
      ],
      "execution_count": null,
      "outputs": []
    },
    {
      "cell_type": "code",
      "metadata": {
        "id": "ggaRVCA1Sgjc",
        "colab": {
          "base_uri": "https://localhost:8080/"
        },
        "outputId": "e039f128-282f-401b-d9b9-d0a0b5b2266b"
      },
      "source": [
        "df['lucro_cliente'].describe()"
      ],
      "execution_count": null,
      "outputs": [
        {
          "output_type": "execute_result",
          "data": {
            "text/plain": [
              "count    41741.000000\n",
              "mean      -373.676806\n",
              "std       1441.545481\n",
              "min     -16767.666667\n",
              "25%         -0.763200\n",
              "50%         33.947267\n",
              "75%        100.268667\n",
              "max       1583.652533\n",
              "Name: lucro_cliente, dtype: float64"
            ]
          },
          "metadata": {
            "tags": []
          },
          "execution_count": 30
        }
      ]
    },
    {
      "cell_type": "code",
      "metadata": {
        "id": "Vgt1vkZDbbOg",
        "colab": {
          "base_uri": "https://localhost:8080/",
          "height": 297
        },
        "outputId": "5ee839fa-6573-437e-84d7-11e5a4139b76"
      },
      "source": [
        "sns.histplot(data=df, x='lucro_cliente', bins=50, kde=True, color='purple')"
      ],
      "execution_count": null,
      "outputs": [
        {
          "output_type": "execute_result",
          "data": {
            "text/plain": [
              "<matplotlib.axes._subplots.AxesSubplot at 0x7fca168eb6a0>"
            ]
          },
          "metadata": {
            "tags": []
          },
          "execution_count": 31
        },
        {
          "output_type": "display_data",
          "data": {
            "image/png": "[encoded data removed]",
            "text/plain": [
              "<Figure size 432x288 with 1 Axes>"
            ]
          },
          "metadata": {
            "tags": [],
            "needs_background": "light"
          }
        }
      ]
    },
    {
      "cell_type": "code",
      "metadata": {
        "id": "o_mR3sNYdaPl"
      },
      "source": [
        ""
      ],
      "execution_count": null,
      "outputs": []
    }
  ]
}